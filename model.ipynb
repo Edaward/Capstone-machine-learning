{
 "cells": [
  {
   "cell_type": "code",
   "execution_count": 1,
   "metadata": {
    "collapsed": true
   },
   "outputs": [],
   "source": [
    "import os\n",
    "import sys\n",
    "from PIL import Image\n",
    "import numpy as np\n",
    "def normalize(x):\n",
    "    \"\"\"\n",
    "    Normalize a list of sample image data in the range of 0 to 1\n",
    "    : x: List of image data.  The image shape is (32, 32, 3)\n",
    "    : return: Numpy array of normalize data\n",
    "    \"\"\"\n",
    "    # TODO: Implement Function\n",
    "    x=x/255.0\n",
    "    \n",
    "    #print (x.shape)\n",
    "    return x\n",
    "def array_image(name):\n",
    "    directory = os.listdir(os.getcwd()+'\\\\data\\\\'+name)\n",
    "    dic = {}\n",
    "    images = []\n",
    "    labels = []\n",
    "    for i in directory:\n",
    "        dic[i] = os.listdir(os.getcwd()+ '\\\\data\\\\'+name+'\\\\'+i)\n",
    "    for i,j in dic.items():\n",
    "        for image in j:\n",
    "            pic = Image.open(os.getcwd()+'\\\\data\\\\'+name+'\\\\'+i+'\\\\'+image)\n",
    "            images.append(list(pic.getdata()))\n",
    "            labels.append([float(label == i) for label in dic])\n",
    "  \n",
    "    images = np.asarray(images)\n",
    "    labels = np.asarray(labels)     \n",
    "    return images, labels\n"
   ]
  },
  {
   "cell_type": "code",
   "execution_count": 2,
   "metadata": {
    "collapsed": false
   },
   "outputs": [],
   "source": [
    "images_train,labels_train = array_image('train')\n",
    "images_test,labels_test = array_image('validation')\n",
    "images_train = normalize(images_train)\n",
    "images_test = normalize(images_test)\n"
   ]
  },
  {
   "cell_type": "code",
   "execution_count": 3,
   "metadata": {
    "collapsed": false
   },
   "outputs": [],
   "source": [
    "def next_batch(x,y,batch_size,i):\n",
    "    \"\"\"Return the next `batch_size` examples from this data set.\"\"\"\n",
    "    num = len(y[:,])\n",
    "    if i==0:\n",
    "        perm = np.arange(num)\n",
    "        np.random.shuffle(perm)\n",
    "        images = x[perm]\n",
    "        labels = y[perm]\n",
    "        k =0\n",
    "    start = batch_size*i-k*num\n",
    "    if  start+batch_size > num:\n",
    "        perm = np.arange(num)\n",
    "        np.random.shuffle(perm)\n",
    "        images = x[perm]\n",
    "        labels = y[perm]\n",
    "        start = 0\n",
    "        k = k+1\n",
    "    end = start+batch_size\n",
    "    return images[start:end], labels[start:end]"
   ]
  },
  {
   "cell_type": "code",
   "execution_count": null,
   "metadata": {
    "collapsed": false
   },
   "outputs": [],
   "source": []
  },
  {
   "cell_type": "code",
   "execution_count": 30,
   "metadata": {
    "collapsed": false
   },
   "outputs": [],
   "source": [
    "import tensorflow as tf\n",
    "import numpy\n",
    "x = tf.placeholder(tf.float32, [None, 2025])\n",
    "W = tf.Variable(tf.zeros([2025,30]))\n",
    "b = tf.Variable(tf.zeros([30]))\n",
    "y = tf.nn.softmax(tf.matmul(x, W) + b)\n",
    "y_ = tf.placeholder(tf.float32, [None, 30])\n",
    "cross_entropy = tf.reduce_mean(-tf.reduce_sum(y_ * tf.log(y), reduction_indices=[1]))\n",
    "train_step = tf.train.GradientDescentOptimizer(0.5).minimize(cross_entropy)\n",
    "sess = tf.InteractiveSession()\n",
    "tf.global_variables_initializer().run()\n",
    "perm = np.arange(80350)\n",
    "np.random.shuffle(perm)\n",
    "images = images_train[perm]\n",
    "labels = labels_train[perm]\n",
    "for i in range(800):\n",
    "    batchx = images[100*i:100+100*i]\n",
    "    batchy = labels[100*i:100+100*i]\n",
    "    sess.run(train_step, feed_dict={x: batchx, y_: batchy})\n",
    "    "
   ]
  },
  {
   "cell_type": "code",
   "execution_count": 4,
   "metadata": {
    "collapsed": false,
    "scrolled": true
   },
   "outputs": [
    {
     "name": "stdout",
     "output_type": "stream",
     "text": [
      "step 0, training accuracy 0.03\n",
      "step 50, training accuracy 0.21\n",
      "step 100, training accuracy 0.41\n",
      "step 150, training accuracy 0.48\n",
      "step 200, training accuracy 0.67\n",
      "step 250, training accuracy 0.66\n",
      "step 300, training accuracy 0.63\n",
      "step 350, training accuracy 0.74\n",
      "step 400, training accuracy 0.75\n",
      "step 450, training accuracy 0.75\n",
      "step 500, training accuracy 0.81\n",
      "step 550, training accuracy 0.81\n",
      "step 600, training accuracy 0.73\n",
      "step 650, training accuracy 0.74\n",
      "step 700, training accuracy 0.8\n",
      "step 750, training accuracy 0.84\n"
     ]
    }
   ],
   "source": [
    "import tensorflow as tf\n",
    "def weight_variable(shape):\n",
    "    initial = tf.truncated_normal(shape, stddev=0.1)\n",
    "    return tf.Variable(initial)\n",
    "\n",
    "def bias_variable(shape):\n",
    "    initial = tf.constant(0.1, shape=shape)\n",
    "    return tf.Variable(initial)\n",
    "def conv2d(x, W):\n",
    "    return tf.nn.conv2d(x, W, strides=[1, 1, 1, 1], padding='SAME')\n",
    "\n",
    "def max_pool_2x2(x):\n",
    "    return tf.nn.max_pool(x, ksize=[1, 2, 2, 1],\n",
    "                        strides=[1, 2, 2, 1], padding='SAME')\n",
    "\n",
    "sess = tf.InteractiveSession()\n",
    "x = tf.placeholder(tf.float32, shape=[None, 2025])\n",
    "y_ = tf.placeholder(tf.float32, shape=[None, 30])\n",
    "W = tf.Variable(tf.zeros([2025,30]))\n",
    "b = tf.Variable(tf.zeros([30]))\n",
    "W_conv1 = weight_variable([5, 5, 1, 32])\n",
    "b_conv1 = bias_variable([32])\n",
    "x_image = tf.reshape(x, [-1,45,45,1])\n",
    "h_conv1 = tf.nn.relu(conv2d(x_image, W_conv1) + b_conv1)\n",
    "h_pool1 = max_pool_2x2(h_conv1)\n",
    "W_conv2 = weight_variable([5, 5, 32, 64])\n",
    "b_conv2 = bias_variable([64])\n",
    "\n",
    "h_conv2 = tf.nn.relu(conv2d(h_pool1, W_conv2) + b_conv2)\n",
    "h_pool2 = max_pool_2x2(h_conv2)\n",
    "W_fc1 = weight_variable([12 * 12 * 64, 1024])\n",
    "b_fc1 = bias_variable([1024])\n",
    "\n",
    "h_pool2_flat = tf.reshape(h_pool2, [-1, 12*12*64])\n",
    "h_fc1 = tf.nn.relu(tf.matmul(h_pool2_flat, W_fc1) + b_fc1)\n",
    "W_fc1 = weight_variable([12 * 12 * 64, 1024])\n",
    "b_fc1 = bias_variable([1024])\n",
    "\n",
    "h_pool2_flat = tf.reshape(h_pool2, [-1, 12*12*64])\n",
    "h_fc1 = tf.nn.relu(tf.matmul(h_pool2_flat, W_fc1) + b_fc1)\n",
    "sess.run(tf.global_variables_initializer())\n",
    "keep_prob = tf.placeholder(tf.float32)\n",
    "h_fc1_drop = tf.nn.dropout(h_fc1, keep_prob)\n",
    "W_fc2 = weight_variable([1024, 30])\n",
    "b_fc2 = bias_variable([30])\n",
    "y_conv = tf.matmul(h_fc1_drop, W_fc2) + b_fc2\n",
    "\n",
    "\n",
    "cross_entropy = tf.reduce_mean(\n",
    "    tf.nn.softmax_cross_entropy_with_logits(labels=y_, logits=y_conv))\n",
    "train_step = tf.train.AdamOptimizer(1e-4).minimize(cross_entropy)\n",
    "correct_prediction = tf.equal(tf.argmax(y_conv,1), tf.argmax(y_,1))\n",
    "accuracy = tf.reduce_mean(tf.cast(correct_prediction, tf.float32))\n",
    "sess.run(tf.global_variables_initializer())\n",
    "\n",
    "perm = np.arange(80350)\n",
    "np.random.shuffle(perm)\n",
    "images = images_train[perm]\n",
    "labels = labels_train[perm]\n",
    "\n",
    "for i in range(800):\n",
    "    batchx = images[100*i:100+100*i]\n",
    "    batchy = labels[100*i:100+100*i]\n",
    "    if i%50 == 0:\n",
    "        train_accuracy = accuracy.eval(feed_dict={\n",
    "            x:batchx, y_: batchy, keep_prob: 1.0})\n",
    "        print(\"step %d, training accuracy %g\"%(i, train_accuracy))\n",
    "    sess.run(train_step, feed_dict={x: batchx, y_: batchy, keep_prob: 0.5})"
   ]
  },
  {
   "cell_type": "code",
   "execution_count": 13,
   "metadata": {
    "collapsed": false
   },
   "outputs": [
    {
     "data": {
      "text/plain": [
       "'d:\\\\Documents\\\\mathematicalhandwrriten'"
      ]
     },
     "execution_count": 13,
     "metadata": {},
     "output_type": "execute_result"
    }
   ],
   "source": [
    "saver = tf.train.Saver()\n",
    "saver.save(sess,os.getcwd())"
   ]
  },
  {
   "cell_type": "code",
   "execution_count": 10,
   "metadata": {
    "collapsed": false
   },
   "outputs": [],
   "source": [
    "correct_prediction = tf.equal(tf.argmax(y_conv,1), tf.argmax(y_,1))\n",
    "accuracy = tf.reduce_mean(tf.cast(correct_prediction, tf.float32))\n",
    "sess.run(tf.global_variables_initializer())\n",
    "perm = np.arange(53577)\n",
    "np.random.shuffle(perm)\n",
    "images_test = images_test[perm]\n",
    "labels_test = labels_test[perm]\n",
    "acc = []\n",
    "for i in range(50):    \n",
    "        acc.append(accuracy.eval(feed_dict={\n",
    "                   x: images_test[i*1000:i*1000+1000], y_: labels_test[i*1000:i*1000+1000], keep_prob: 1.0}))"
   ]
  },
  {
   "cell_type": "code",
   "execution_count": 5,
   "metadata": {
    "collapsed": false
   },
   "outputs": [],
   "source": [
    "from sklearn.metrics import f1_score,recall_score,precision_score\n",
    "\n",
    "perm = np.arange(53577)\n",
    "np.random.shuffle(perm)\n",
    "images_test = images_test[perm]\n",
    "labels_test = labels_test[perm]\n",
    "recall = []\n",
    "precision = []\n",
    "f1_score = []\n",
    "for i in range(10):    \n",
    "    #print(\"test accuracy %g\"%accuracy.eval(feed_dict={\n",
    "          #x: images_test[i*1000:i*1000+1000], y_: labels_test[i*1000:i*1000+1000], keep_prob: 1.0}))\n",
    "    y_p = tf.argmax(y_conv, 1)\n",
    "    val_accuracy, y_pred = sess.run([accuracy, y_p], feed_dict={x:images_test[i*1000:i*1000+1000],\n",
    "                                                                y_:labels_test[i*1000:i*1000+1000], keep_prob: 1.0})\n",
    "    \n",
    "    #print(y_pred) \n",
    "    y_true = np.argmax(labels_test[i*1000:i*1000+1000],1)\n",
    "    #print (y_true)\n",
    "    precision.append(precision_score(y_true, y_pred,average='micro'))\n",
    "    recall.append(recall_score(y_true, y_pred,average='micro'))\n",
    "    f1_score.append(2 * (precision[i] * recall[i]) / (precision[i] + recall[i]))\n"
   ]
  },
  {
   "cell_type": "code",
   "execution_count": 27,
   "metadata": {
    "collapsed": false
   },
   "outputs": [
    {
     "data": {
      "image/png": "[encoded data removed]",
      "text/plain": [
       "<matplotlib.figure.Figure at 0x1feb4b6c908>"
      ]
     },
     "metadata": {},
     "output_type": "display_data"
    }
   ],
   "source": [
    "%matplotlib inline\n",
    "import matplotlib.pyplot as plt\n",
    "plt.plot(f1_score)\n",
    "plt.savefig('f1_score',label = 'f1_score')"
   ]
  }
 ],
 "metadata": {
  "anaconda-cloud": {},
  "kernelspec": {
   "display_name": "Python [conda env:snakes3.5]",
   "language": "python",
   "name": "conda-env-snakes3.5-py"
  },
  "language_info": {
   "codemirror_mode": {
    "name": "ipython",
    "version": 3
   },
   "file_extension": ".py",
   "mimetype": "text/x-python",
   "name": "python",
   "nbconvert_exporter": "python",
   "pygments_lexer": "ipython3",
   "version": "3.5.3"
  }
 },
 "nbformat": 4,
 "nbformat_minor": 1
}
